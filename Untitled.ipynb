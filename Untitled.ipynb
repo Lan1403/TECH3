{
 "cells": [
  {
   "cell_type": "code",
   "execution_count": 2,
   "id": "12e5920e-932c-41bb-8027-14798738fc94",
   "metadata": {},
   "outputs": [
    {
     "name": "stdout",
     "output_type": "stream",
     "text": [
      "1\n",
      "Geir får det ikke til\n"
     ]
    }
   ],
   "source": [
    "test = 1\n",
    "print(test)\n",
    "str = \"Geir får det ikke til\"\n",
    "print(str)"
   ]
  },
  {
   "cell_type": "code",
   "execution_count": null,
   "id": "e52127de-5c77-4a9d-ac71-c5778a82f437",
   "metadata": {},
   "outputs": [],
   "source": []
  }
 ],
 "metadata": {
  "kernelspec": {
   "display_name": "Python 3 (ipykernel)",
   "language": "python",
   "name": "python3"
  },
  "language_info": {
   "codemirror_mode": {
    "name": "ipython",
    "version": 3
   },
   "file_extension": ".py",
   "mimetype": "text/x-python",
   "name": "python",
   "nbconvert_exporter": "python",
   "pygments_lexer": "ipython3",
   "version": "3.12.3"
  }
 },
 "nbformat": 4,
 "nbformat_minor": 5
}
